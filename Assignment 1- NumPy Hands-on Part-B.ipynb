{
 "cells": [
  {
   "cell_type": "markdown",
   "metadata": {},
   "source": [
    "# Assignment 1- NumPy Hands-on #"
   ]
  },
  {
   "cell_type": "markdown",
   "metadata": {},
   "source": [
    "## Part B ##"
   ]
  },
  {
   "cell_type": "markdown",
   "metadata": {},
   "source": [
    "## Array Creation ##"
   ]
  },
  {
   "cell_type": "code",
   "execution_count": 91,
   "metadata": {
    "collapsed": false
   },
   "outputs": [],
   "source": [
    "a = [[1 ,2 ,3 ],[4 ,5 ,6 ],[7 ,8 ,9 ]]"
   ]
  },
  {
   "cell_type": "markdown",
   "metadata": {},
   "source": [
    "## 1.MIN ##"
   ]
  },
  {
   "cell_type": "code",
   "execution_count": 92,
   "metadata": {
    "collapsed": false
   },
   "outputs": [
    {
     "data": {
      "text/plain": [
       "1"
      ]
     },
     "execution_count": 92,
     "metadata": {},
     "output_type": "execute_result"
    }
   ],
   "source": [
    "def minvalue(a):\n",
    "    miv = a[0][0]\n",
    "    for i in list(range(len(a))):\n",
    "        for j in list(range(len(a[0]))):\n",
    "                if a[i][j] < miv:\n",
    "                    miv = a[i][j]\n",
    "    return(miv)                \n",
    "minvalue(a)                    "
   ]
  },
  {
   "cell_type": "markdown",
   "metadata": {},
   "source": [
    "## 2.MAX ##"
   ]
  },
  {
   "cell_type": "code",
   "execution_count": 93,
   "metadata": {
    "collapsed": false
   },
   "outputs": [
    {
     "data": {
      "text/plain": [
       "9"
      ]
     },
     "execution_count": 93,
     "metadata": {},
     "output_type": "execute_result"
    }
   ],
   "source": [
    "def maxvalue(a):\n",
    "    mav = a[0][0]\n",
    "    for i in list(range(len(a))):\n",
    "        for j in list(range(len(a[0]))):\n",
    "                if a[i][j] > mav:\n",
    "                    mav = a[i][j]\n",
    "    return(mav)                \n",
    "maxvalue(a)                    "
   ]
  },
  {
   "cell_type": "markdown",
   "metadata": {},
   "source": [
    "## 3.MEAN ##"
   ]
  },
  {
   "cell_type": "code",
   "execution_count": 94,
   "metadata": {
    "collapsed": false
   },
   "outputs": [
    {
     "data": {
      "text/plain": [
       "5.0"
      ]
     },
     "execution_count": 94,
     "metadata": {},
     "output_type": "execute_result"
    }
   ],
   "source": [
    "def meanvalue(a):\n",
    "    sum = 0\n",
    "    for i in list(range(len(a))):\n",
    "        for j in list(range(len(a[0]))):\n",
    "                    sum = sum + a[i][j]\n",
    "                \n",
    "    return(sum / (len(a) * len(a[0])))                \n",
    "meanvalue(a)                    "
   ]
  },
  {
   "cell_type": "markdown",
   "metadata": {},
   "source": [
    "## 4.ARGMIN ##"
   ]
  },
  {
   "cell_type": "code",
   "execution_count": 95,
   "metadata": {
    "collapsed": false
   },
   "outputs": [
    {
     "data": {
      "text/plain": [
       "0"
      ]
     },
     "execution_count": 95,
     "metadata": {},
     "output_type": "execute_result"
    }
   ],
   "source": [
    "def argumentmin(a):\n",
    "    miv = 0\n",
    "    s = 0\n",
    "    miv_index = 0\n",
    "    for i in list(range(len(a))):\n",
    "        for j in list(range(len(a[0]))):\n",
    "            if a[i][j] < miv:\n",
    "                miv = a[i][j]\n",
    "                miv_index = s\n",
    "            s = s + 1    \n",
    "                \n",
    "    return(miv_index)                \n",
    "argumentmin(a)  "
   ]
  },
  {
   "cell_type": "markdown",
   "metadata": {},
   "source": [
    "## 5.ARGMAX ##"
   ]
  },
  {
   "cell_type": "code",
   "execution_count": 96,
   "metadata": {
    "collapsed": false
   },
   "outputs": [
    {
     "data": {
      "text/plain": [
       "8"
      ]
     },
     "execution_count": 96,
     "metadata": {},
     "output_type": "execute_result"
    }
   ],
   "source": [
    "def argumentmax(a):\n",
    "    mav = 0\n",
    "    s = 0\n",
    "    mav_index = 0\n",
    "    for i in list(range(len(a))):\n",
    "        for j in list(range(len(a[0]))):\n",
    "            if a[i][j] > mav:\n",
    "                mav = a[i][j]\n",
    "                mav_index = s\n",
    "            s = s + 1    \n",
    "                \n",
    "    return(mav_index)                \n",
    "argumentmax(a)"
   ]
  },
  {
   "cell_type": "markdown",
   "metadata": {},
   "source": [
    "## 6.FLATTEN ##"
   ]
  },
  {
   "cell_type": "code",
   "execution_count": 97,
   "metadata": {
    "collapsed": false
   },
   "outputs": [
    {
     "data": {
      "text/plain": [
       "[1, 2, 3, 4, 5, 6, 7, 8, 9]"
      ]
     },
     "execution_count": 97,
     "metadata": {},
     "output_type": "execute_result"
    }
   ],
   "source": [
    "def flattenarr(a):\n",
    "    arr = []\n",
    "    for i in list(range(len(a))):\n",
    "        for j in list(range(len(a))):\n",
    "            arr.append(a[i][j]) \n",
    "    return(arr)                \n",
    "flattenarr(a)"
   ]
  },
  {
   "cell_type": "markdown",
   "metadata": {},
   "source": [
    "## 7.RAVEL ##"
   ]
  },
  {
   "cell_type": "code",
   "execution_count": 98,
   "metadata": {
    "collapsed": false
   },
   "outputs": [
    {
     "data": {
      "text/plain": [
       "[1, 2, 3, 4, 5, 6, 7, 8, 9]"
      ]
     },
     "execution_count": 98,
     "metadata": {},
     "output_type": "execute_result"
    }
   ],
   "source": [
    "def ravelarr(a):\n",
    "    arr = []\n",
    "    for i in list(range(len(a))):\n",
    "        for j in list(range(len(a[0]))):\n",
    "            arr.append(a[i][j]) \n",
    "    return(arr)                \n",
    "ravelarr(a)"
   ]
  },
  {
   "cell_type": "markdown",
   "metadata": {},
   "source": [
    "## 8.DOT PRODUCT ##"
   ]
  },
  {
   "cell_type": "code",
   "execution_count": 104,
   "metadata": {
    "collapsed": false
   },
   "outputs": [
    {
     "data": {
      "text/plain": [
       "[[1, 2, 3], [4, 5, 6], [7, 8, 9]]"
      ]
     },
     "execution_count": 104,
     "metadata": {},
     "output_type": "execute_result"
    }
   ],
   "source": [
    "def multiply(a,b):\n",
    "    c = []\n",
    "    for i in list(range(len(a))):\n",
    "        w = []\n",
    "        for j in list(range(len(b[0]))):\n",
    "            s = 0\n",
    "            for k in list(range(len(a[0]))):\n",
    "                s = s + (a[i][k] * b[k][j]) \n",
    "            w.append(s)\n",
    "        c.append(w)    \n",
    "    return(c)\n",
    "b = np.array([[1 ,0 ,0 ],[0 ,1 ,0 ],[0 ,0 ,1]])\n",
    "multiply(a ,b)"
   ]
  },
  {
   "cell_type": "markdown",
   "metadata": {},
   "source": [
    "## 9.* for Matrix (Element wise multiplication) ##"
   ]
  },
  {
   "cell_type": "code",
   "execution_count": 105,
   "metadata": {
    "collapsed": false
   },
   "outputs": [
    {
     "data": {
      "text/plain": [
       "[[1, 4, 9], [16, 25, 36], [49, 64, 81]]"
      ]
     },
     "execution_count": 105,
     "metadata": {},
     "output_type": "execute_result"
    }
   ],
   "source": [
    "def product(a,b):\n",
    "    c = []\n",
    "    for i in list(range(len(a))):\n",
    "        w = []\n",
    "        for j in list(range(len(a[0]))):\n",
    "                w.append(a[i][j] * b[i][j]) \n",
    "        c.append(w)     \n",
    "    return(c)\n",
    "b=[[1 ,2 ,3],[4 ,5 ,6],[7 ,8 ,9]]\n",
    "product(a ,b)"
   ]
  },
  {
   "cell_type": "markdown",
   "metadata": {},
   "source": [
    "## 10.Arange Followed By Reshape ##"
   ]
  },
  {
   "cell_type": "code",
   "execution_count": 73,
   "metadata": {
    "collapsed": false
   },
   "outputs": [
    {
     "data": {
      "text/plain": [
       "[0, 1, 2, 3, 4]"
      ]
     },
     "execution_count": 73,
     "metadata": {},
     "output_type": "execute_result"
    }
   ],
   "source": [
    "def arangen(n):\n",
    "    return(list(range(n)))\n",
    "arangen(5)"
   ]
  },
  {
   "cell_type": "code",
   "execution_count": 106,
   "metadata": {
    "collapsed": false
   },
   "outputs": [
    {
     "data": {
      "text/plain": [
       "[[1, 2, 3], [4, 5, 6]]"
      ]
     },
     "execution_count": 106,
     "metadata": {},
     "output_type": "execute_result"
    }
   ],
   "source": [
    "def reshapen(x ,r ,c):\n",
    "    ca = []\n",
    "    k = 0\n",
    "    for i in list(range(r)):\n",
    "        w = []\n",
    "        for j in list(range(c)):\n",
    "                w.append(x[k])\n",
    "                k = k + 1\n",
    "        ca.append(w)        \n",
    "    return(ca)\n",
    "reshapen([1 ,2 ,3 ,4 ,5 ,6],2 ,3)"
   ]
  },
  {
   "cell_type": "markdown",
   "metadata": {},
   "source": [
    "## 11.Identity/Eye ##"
   ]
  },
  {
   "cell_type": "code",
   "execution_count": 107,
   "metadata": {
    "collapsed": false
   },
   "outputs": [
    {
     "data": {
      "text/plain": [
       "[[1, 0, 0], [0, 1, 0], [0, 0, 1]]"
      ]
     },
     "execution_count": 107,
     "metadata": {},
     "output_type": "execute_result"
    }
   ],
   "source": [
    "def iden(n):\n",
    "    c = []\n",
    "    for i in list(range(n)):\n",
    "        w = []\n",
    "        for j in list(range(n)):\n",
    "            if i == j:\n",
    "                w.append(1)\n",
    "            else:\n",
    "                w.append(0)\n",
    "        c.append(w)        \n",
    "    return(c)\n",
    "iden(3)"
   ]
  },
  {
   "cell_type": "code",
   "execution_count": 110,
   "metadata": {
    "collapsed": false
   },
   "outputs": [
    {
     "data": {
      "text/plain": [
       "[[1, 0, 0], [0, 1, 0], [0, 0, 1]]"
      ]
     },
     "execution_count": 110,
     "metadata": {},
     "output_type": "execute_result"
    }
   ],
   "source": [
    "def eyen(r ,c):\n",
    "    ca = []\n",
    "    for i in list(range(r)):\n",
    "        w = []\n",
    "        for j in list(range(c)):\n",
    "            if i == j:\n",
    "                w.append(1)\n",
    "            else:\n",
    "                w.append(0)\n",
    "        ca.append(w)        \n",
    "    return(ca)\n",
    "eyen(3 ,3)"
   ]
  },
  {
   "cell_type": "markdown",
   "metadata": {},
   "source": [
    "## 12.SUM ##"
   ]
  },
  {
   "cell_type": "code",
   "execution_count": 111,
   "metadata": {
    "collapsed": false
   },
   "outputs": [
    {
     "data": {
      "text/plain": [
       "45"
      ]
     },
     "execution_count": 111,
     "metadata": {},
     "output_type": "execute_result"
    }
   ],
   "source": [
    "def sumarr(a):\n",
    "    s = 0\n",
    "    for i in list(range(len(a))):\n",
    "        for j in list(range(len(a[0]))):\n",
    "            s = s + a[i][j]\n",
    "    return(s)\n",
    "sumarr(a)"
   ]
  },
  {
   "cell_type": "markdown",
   "metadata": {},
   "source": [
    "## 13.DIAG ##"
   ]
  },
  {
   "cell_type": "code",
   "execution_count": 113,
   "metadata": {
    "collapsed": false
   },
   "outputs": [
    {
     "data": {
      "text/plain": [
       "[1, 5, 9]"
      ]
     },
     "execution_count": 113,
     "metadata": {},
     "output_type": "execute_result"
    }
   ],
   "source": [
    "def diagarr(a):\n",
    "    c = []\n",
    "    for i in list(range(len(a))):\n",
    "        for j in list(range(len(a[0]))):\n",
    "            if i == j:\n",
    "                c.append(a[i][j])\n",
    "    return(c)\n",
    "diagarr(a)"
   ]
  },
  {
   "cell_type": "markdown",
   "metadata": {},
   "source": [
    "## 15.TRIL/TRIU ##"
   ]
  },
  {
   "cell_type": "code",
   "execution_count": 126,
   "metadata": {
    "collapsed": false
   },
   "outputs": [
    {
     "data": {
      "text/plain": [
       "[[1, 0, 0], [4, 5, 0], [7, 8, 9]]"
      ]
     },
     "execution_count": 126,
     "metadata": {},
     "output_type": "execute_result"
    }
   ],
   "source": [
    "def trilarr(a):\n",
    "    c = []\n",
    "    for i in list(range(len(a))):\n",
    "        w = []\n",
    "        for j in list(range(len(a[0]))):\n",
    "            if i >= j:\n",
    "                w.append(a[i][j])\n",
    "            else:\n",
    "                w.append(0)\n",
    "        c.append(w)        \n",
    "    return(c)\n",
    "trilarr(a)"
   ]
  },
  {
   "cell_type": "code",
   "execution_count": 125,
   "metadata": {
    "collapsed": false
   },
   "outputs": [
    {
     "data": {
      "text/plain": [
       "[[1, 2, 3], [0, 5, 6], [0, 0, 9]]"
      ]
     },
     "execution_count": 125,
     "metadata": {},
     "output_type": "execute_result"
    }
   ],
   "source": [
    "def triuarr(a):\n",
    "    c = []\n",
    "    for i in list(range(len(a))):\n",
    "        w = []\n",
    "        for j in list(range(len(a[0]))):\n",
    "            if i <= j:\n",
    "                w.append(a[i][j])\n",
    "            else:\n",
    "                w.append(0)\n",
    "        c.append(w)        \n",
    "    return(c)\n",
    "triuarr(a)"
   ]
  }
 ],
 "metadata": {
  "kernelspec": {
   "display_name": "Python 3",
   "language": "python",
   "name": "python3"
  },
  "language_info": {
   "codemirror_mode": {
    "name": "ipython",
    "version": 3
   },
   "file_extension": ".py",
   "mimetype": "text/x-python",
   "name": "python",
   "nbconvert_exporter": "python",
   "pygments_lexer": "ipython3",
   "version": "3.5.2"
  }
 },
 "nbformat": 4,
 "nbformat_minor": 2
}
