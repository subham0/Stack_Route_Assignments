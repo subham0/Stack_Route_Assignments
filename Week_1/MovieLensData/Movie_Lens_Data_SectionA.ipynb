{
 "cells": [
  {
   "cell_type": "markdown",
   "metadata": {
    "deletable": true,
    "editable": true
   },
   "source": [
    "# MovieLens Data #"
   ]
  },
  {
   "cell_type": "markdown",
   "metadata": {
    "deletable": true,
    "editable": true
   },
   "source": [
    "## Section A ##"
   ]
  },
  {
   "cell_type": "markdown",
   "metadata": {
    "deletable": true,
    "editable": true
   },
   "source": [
    "## import modules ##"
   ]
  },
  {
   "cell_type": "code",
   "execution_count": 2,
   "metadata": {
    "collapsed": true,
    "deletable": true,
    "editable": true
   },
   "outputs": [],
   "source": [
    "import pandas as pd\n",
    "import matplotlib.pyplot as plt"
   ]
  },
  {
   "cell_type": "markdown",
   "metadata": {
    "deletable": true,
    "editable": true
   },
   "source": [
    "## Part 1 ##"
   ]
  },
  {
   "cell_type": "markdown",
   "metadata": {
    "deletable": true,
    "editable": true
   },
   "source": [
    "# Load Data #"
   ]
  },
  {
   "cell_type": "code",
   "execution_count": 27,
   "metadata": {
    "collapsed": true,
    "deletable": true,
    "editable": true
   },
   "outputs": [],
   "source": [
    "udata = pd.read_table('/home/user/Downloads/ml-100k/u.data',\n",
    "                      header = None,\n",
    "                      names = ['user id','item id','rating','timestamp'])"
   ]
  },
  {
   "cell_type": "markdown",
   "metadata": {
    "deletable": true,
    "editable": true
   },
   "source": [
    "# Graph Plot #"
   ]
  },
  {
   "cell_type": "code",
   "execution_count": 9,
   "metadata": {
    "collapsed": false,
    "deletable": true,
    "editable": true
   },
   "outputs": [
    {
     "data": {
      "image/png": "[encoded data removed]",
      "text/plain": [
       "<matplotlib.figure.Figure at 0x7ff4c8629470>"
      ]
     },
     "metadata": {},
     "output_type": "display_data"
    }
   ],
   "source": [
    "z = udata.groupby('user id').rating.count()\n",
    "y = z.tolist()\n",
    "plt.hist(y,histtype = 'bar',rwidth = 0.8)\n",
    "plt.xlabel('User Id')\n",
    "plt.ylabel('Ratings Count')\n",
    "plt.title('Count of ratings by user')\n",
    "plt.show()"
   ]
  },
  {
   "cell_type": "markdown",
   "metadata": {
    "collapsed": true,
    "deletable": true,
    "editable": true
   },
   "source": [
    "## Part 2 ##"
   ]
  },
  {
   "cell_type": "markdown",
   "metadata": {
    "deletable": true,
    "editable": true
   },
   "source": [
    "## Load Data ##"
   ]
  },
  {
   "cell_type": "code",
   "execution_count": 11,
   "metadata": {
    "collapsed": true,
    "deletable": true,
    "editable": true
   },
   "outputs": [],
   "source": [
    "uuser = pd.read_csv('/home/user/Downloads/ml-100k/u.user',\n",
    "                    sep = '|',header = None,\n",
    "                    names = ['user id','age','gender','occupation','zip code'])"
   ]
  },
  {
   "cell_type": "markdown",
   "metadata": {
    "deletable": true,
    "editable": true
   },
   "source": [
    "## Graph Plot ##"
   ]
  },
  {
   "cell_type": "code",
   "execution_count": 13,
   "metadata": {
    "collapsed": false,
    "deletable": true,
    "editable": true
   },
   "outputs": [
    {
     "data": {
      "image/png": "[encoded data removed]",
      "text/plain": [
       "<matplotlib.figure.Figure at 0x7ff49eaf86d8>"
      ]
     },
     "metadata": {},
     "output_type": "display_data"
    }
   ],
   "source": [
    "z = uuser.groupby(['age']).count()['user id']\n",
    "x = list(z.index)\n",
    "y = z.tolist()\n",
    "plt.bar(x, y, 1, color = \"b\")\n",
    "plt.ylabel('User Count')\n",
    "plt.xlabel('Age')\n",
    "plt.title('User Count on basis of age')\n",
    "plt.show()"
   ]
  },
  {
   "cell_type": "markdown",
   "metadata": {
    "deletable": true,
    "editable": true
   },
   "source": [
    "## Part 3 ##"
   ]
  },
  {
   "cell_type": "markdown",
   "metadata": {
    "deletable": true,
    "editable": true
   },
   "source": [
    "## Load Data ##"
   ]
  },
  {
   "cell_type": "code",
   "execution_count": 28,
   "metadata": {
    "collapsed": true,
    "deletable": true,
    "editable": true
   },
   "outputs": [],
   "source": [
    "uitem = pd.read_csv('/home/user/Downloads/ml-100k/u.item', \n",
    "        names = ['item id','movie title','release date','video release date','IMDb URL','unknown','Action',\n",
    "               'Adventure','Animation','Childrens','Comedy','Crime','Documentary','Drama','Fantasy','Film Noir',\n",
    "               'Horror','Musical','Mystery','Romance','Sci Fi','Thriller','War','Western'],\n",
    "                sep= '|', header = None, encoding = \"ISO-8859-1\")\n",
    "uuser=pd.read_csv('/home/user/Downloads/ml-100k/u.user',sep = '|',\n",
    "                  header = None,\n",
    "                  names = ['user id','age','gender','occupation','zip code'])\n",
    "udata=pd.read_table('/home/user/Downloads/ml-100k/u.data',\n",
    "                    header = None,\n",
    "                    names = ['user id','item id','rating','timestamp'])"
   ]
  },
  {
   "cell_type": "markdown",
   "metadata": {
    "deletable": true,
    "editable": true
   },
   "source": [
    "## Drop Columns ##"
   ]
  },
  {
   "cell_type": "code",
   "execution_count": 29,
   "metadata": {
    "collapsed": false,
    "deletable": true,
    "editable": true
   },
   "outputs": [],
   "source": [
    "uitem.drop(['movie title','release date','video release date','IMDb URL','unknown'], axis = 1,inplace = True)\n",
    "uuser.drop(['age', 'occupation', 'zip code'], axis = 1,inplace = True)\n",
    "udata.drop(['rating' , 'timestamp'], axis = 1,inplace = True)"
   ]
  },
  {
   "cell_type": "markdown",
   "metadata": {
    "deletable": true,
    "editable": true
   },
   "source": [
    "## Merge Data ##"
   ]
  },
  {
   "cell_type": "code",
   "execution_count": 30,
   "metadata": {
    "collapsed": true,
    "deletable": true,
    "editable": true
   },
   "outputs": [],
   "source": [
    "merge1 = udata.merge(uuser)\n",
    "merge2 = merge1.merge(uitem)"
   ]
  },
  {
   "cell_type": "markdown",
   "metadata": {
    "deletable": true,
    "editable": true
   },
   "source": [
    "## Graph Plot ##"
   ]
  },
  {
   "cell_type": "code",
   "execution_count": 31,
   "metadata": {
    "collapsed": false,
    "deletable": true,
    "editable": true
   },
   "outputs": [
    {
     "data": {
      "image/png": "[encoded data removed]",
      "text/plain": [
       "<matplotlib.figure.Figure at 0x7ff49e9269b0>"
      ]
     },
     "metadata": {},
     "output_type": "display_data"
    }
   ],
   "source": [
    "rows = ['Action', 'Adventure', 'Animation', 'Childrens', 'Comedy', 'Crime', 'Documentary', 'Drama',\n",
    "      'Fantasy', 'Film Noir', 'Horror', 'Musical', 'Mystery', 'Romance', 'Sci Fi', 'Thriller', 'War', 'Western']\n",
    "df = pd.DataFrame(index = rows, columns = ['M','F'])\n",
    "for i in range(len(rows)):\n",
    "    s=merge2.groupby('gender')[rows[i]].sum().tolist()\n",
    "    df.loc[rows[i],'M'] = s[0]\n",
    "    df.loc[rows[i],'F'] = s[1]   \n",
    "X=range(len(rows))\n",
    "Male = df.M.tolist()\n",
    "Female = df.F.tolist()\n",
    "plt.bar(X,Male , color = 'b',label = 'Male')\n",
    "plt.bar(X,Female , color = 'r', bottom = Male,label = 'Female')\n",
    "plt.xticks(X,tuple(rows),rotation = 'vertical')\n",
    "plt.xlabel('Genres')\n",
    "plt.ylabel('Count of Male and Female')\n",
    "plt.title('Count of Male and Female on the basis of Genre')\n",
    "plt.legend()\n",
    "plt.show()  \n",
    "    "
   ]
  },
  {
   "cell_type": "code",
   "execution_count": null,
   "metadata": {
    "collapsed": true,
    "deletable": true,
    "editable": true
   },
   "outputs": [],
   "source": []
  }
 ],
 "metadata": {
  "kernelspec": {
   "display_name": "Python 3",
   "language": "python",
   "name": "python3"
  },
  "language_info": {
   "codemirror_mode": {
    "name": "ipython",
    "version": 3
   },
   "file_extension": ".py",
   "mimetype": "text/x-python",
   "name": "python",
   "nbconvert_exporter": "python",
   "pygments_lexer": "ipython3",
   "version": "3.5.2"
  }
 },
 "nbformat": 4,
 "nbformat_minor": 2
}
