{
 "cells": [
  {
   "cell_type": "markdown",
   "metadata": {
    "deletable": true,
    "editable": true
   },
   "source": [
    "## UK Government Content Writing Criteria\n",
    "\n",
    "UK Government has a certain checklist for the content writers. They want the content writers to be more specific in the details they want to convey to the users. UK Government basically believes that when you write more people understand less. So they came up with a simple solution.\n",
    "\n",
    "1. There can be no more than 15 Sentences.\n",
    "2. And each sentence should have less than 15 words.\n",
    "3. And each word should be less than 15 words.\n",
    "\n",
    "Help the UK Government writing a detector which checks for the above criteria. \n",
    "\n",
    "Write three seperate detectors so that the content writer knows where exactly did he make the mistake"
   ]
  },
  {
   "cell_type": "markdown",
   "metadata": {
    "deletable": true,
    "editable": true
   },
   "source": [
    "So here is Mr. James Wilson who wrote about Elon Musk. Here is the following content.\n",
    "\n",
    "~~~~ \n",
    "Musk was born on June 28, 1971, in Pretoria, Gauteng, South Africa,[27] the son of Maye Musk (née Haldeman), a model and dietician from Regina, Saskatchewan, Canada;[28] and Errol Musk, a South African electromechanical engineer, pilot and sailor. He has a younger brother, Kimbal (born 1972), and a younger sister, Tosca (born 1974).[28][29][30][31] His paternal grandmother was British, and he also has Pennsylvania Dutch ancestry,[32][33] and his maternal grandfather was American, from Minnesota.[34] After his parents divorced in 1980, Musk lived mostly with his father in the suburbs of Pretoria.[32]\n",
    "\n",
    "During his childhood he had an interest in reading and often did so for hours at a time.[35]\n",
    "\n",
    "At What age did Musk got interested in computing? At age 10, he developed an interest in computing with the Commodore VIC-20.[36] He taught himself computer programming at the age of 12, sold the code for a BASIC-based video game he created called Blastar, to a magazine called PC and Office Technology, for approximately $500. [37][38] A web version of the game is available online.[37][39]\n",
    "\n",
    "Musk was severely bullied throughout his childhood, and was once hospitalized when a group of boys threw him down a flight of stairs and then beat him until he lost consciousness.[40]\n",
    "\n",
    "Musk was initially educated at private schools, attending the English-speaking Waterkloof House Preparatory School. \n",
    "\n",
    "Mr. Singh helped Musk during his initial days when he was severely bullied during his childhood.\n",
    "\n",
    "Musk later graduated from Pretoria Boys High School and moved to Canada in June 1989, just before his 18th birthday,[41] after obtaining Canadian citizenship through his Canadian-born mother.[42][43] Although at the time Musk had to register to become a Canadian citizen, Bill C-37, which came into law in April of 2009, effectively made his Canadian citizenship retroactive to his birth since he was born in the first generation abroad to a Canadian-born mother. Therefore, with the law change, he is considered to have always been a Canadian citizen by birth.\n",
    "~~~~\n"
   ]
  },
  {
   "cell_type": "code",
   "execution_count": 1,
   "metadata": {
    "collapsed": true
   },
   "outputs": [],
   "source": [
    "import nltk\n",
    "from nltk.tokenize import sent_tokenize,word_tokenize"
   ]
  },
  {
   "cell_type": "code",
   "execution_count": 2,
   "metadata": {
    "collapsed": true
   },
   "outputs": [],
   "source": [
    "sentence=\"\"\"Musk was born on June 28, 1971, in Pretoria, Gauteng, South Africa,[27] the son of Maye Musk (née Haldeman), a model and dietician from Regina, Saskatchewan, Canada;[28] and Errol Musk, a South African electromechanical engineer, pilot and sailor. He has a younger brother, Kimbal (born 1972), and a younger sister, Tosca (born 1974).[28][29][30][31] His paternal grandmother was British, and he also has Pennsylvania Dutch ancestry,[32][33] and his maternal grandfather was American, from Minnesota.[34] After his parents divorced in 1980, Musk lived mostly with his father in the suburbs of Pretoria.[32]\n",
    "\n",
    "During his childhood he had an interest in reading and often did so for hours at a time.[35]\n",
    "\n",
    "At What age did Musk got interested in computing? At age 10, he developed an interest in computing with the Commodore VIC-20.[36] He taught himself computer programming at the age of 12, sold the code for a BASIC-based video game he created called Blastar, to a magazine called PC and Office Technology, for approximately $500. [37][38] A web version of the game is available online.[37][39]\n",
    "\n",
    "Musk was severely bullied throughout his childhood, and was once hospitalized when a group of boys threw him down a flight of stairs and then beat him until he lost consciousness.[40]\n",
    "\n",
    "Musk was initially educated at private schools, attending the English-speaking Waterkloof House Preparatory School. \n",
    "\n",
    "Mr. Singh helped Musk during his initial days when he was severely bullied during his childhood.\n",
    "\n",
    "Musk later graduated from Pretoria Boys High School and moved to Canada in June 1989, just before his 18th birthday,[41] after obtaining Canadian citizenship through his Canadian-born mother.[42][43] Although at the time Musk had to register to become a Canadian citizen, Bill C-37, which came into law in April of 2009, effectively made his Canadian citizenship retroactive to his birth since he was born in the first generation abroad to a Canadian-born mother. Therefore, with the law change, he is considered to have always been a Canadian citizen by birth.\"\"\""
   ]
  },
  {
   "cell_type": "code",
   "execution_count": 25,
   "metadata": {
    "collapsed": false
   },
   "outputs": [
    {
     "data": {
      "text/plain": [
       "['Musk',\n",
       " 'was',\n",
       " 'born',\n",
       " 'on',\n",
       " 'June',\n",
       " '28',\n",
       " ',',\n",
       " '1971',\n",
       " ',',\n",
       " 'in',\n",
       " 'Pretoria',\n",
       " ',',\n",
       " 'Gauteng',\n",
       " ',',\n",
       " 'South',\n",
       " 'Africa',\n",
       " ',',\n",
       " '[',\n",
       " '27',\n",
       " ']',\n",
       " 'the',\n",
       " 'son',\n",
       " 'of',\n",
       " 'Maye',\n",
       " 'Musk',\n",
       " '(',\n",
       " 'née',\n",
       " 'Haldeman',\n",
       " ')',\n",
       " ',',\n",
       " 'a',\n",
       " 'model',\n",
       " 'and',\n",
       " 'dietician',\n",
       " 'from',\n",
       " 'Regina',\n",
       " ',',\n",
       " 'Saskatchewan',\n",
       " ',',\n",
       " 'Canada',\n",
       " ';',\n",
       " '[',\n",
       " '28',\n",
       " ']',\n",
       " 'and',\n",
       " 'Errol',\n",
       " 'Musk',\n",
       " ',',\n",
       " 'a',\n",
       " 'South',\n",
       " 'African',\n",
       " 'electromechanical',\n",
       " 'engineer',\n",
       " ',',\n",
       " 'pilot',\n",
       " 'and',\n",
       " 'sailor',\n",
       " '.',\n",
       " 'He',\n",
       " 'has',\n",
       " 'a',\n",
       " 'younger',\n",
       " 'brother',\n",
       " ',',\n",
       " 'Kimbal',\n",
       " '(',\n",
       " 'born',\n",
       " '1972',\n",
       " ')',\n",
       " ',',\n",
       " 'and',\n",
       " 'a',\n",
       " 'younger',\n",
       " 'sister',\n",
       " ',',\n",
       " 'Tosca',\n",
       " '(',\n",
       " 'born',\n",
       " '1974',\n",
       " ')',\n",
       " '.',\n",
       " '[',\n",
       " '28',\n",
       " ']',\n",
       " '[',\n",
       " '29',\n",
       " ']',\n",
       " '[',\n",
       " '30',\n",
       " ']',\n",
       " '[',\n",
       " '31',\n",
       " ']',\n",
       " 'His',\n",
       " 'paternal',\n",
       " 'grandmother',\n",
       " 'was',\n",
       " 'British',\n",
       " ',',\n",
       " 'and',\n",
       " 'he',\n",
       " 'also',\n",
       " 'has',\n",
       " 'Pennsylvania',\n",
       " 'Dutch',\n",
       " 'ancestry',\n",
       " ',',\n",
       " '[',\n",
       " '32',\n",
       " ']',\n",
       " '[',\n",
       " '33',\n",
       " ']',\n",
       " 'and',\n",
       " 'his',\n",
       " 'maternal',\n",
       " 'grandfather',\n",
       " 'was',\n",
       " 'American',\n",
       " ',',\n",
       " 'from',\n",
       " 'Minnesota',\n",
       " '.',\n",
       " '[',\n",
       " '34',\n",
       " ']',\n",
       " 'After',\n",
       " 'his',\n",
       " 'parents',\n",
       " 'divorced',\n",
       " 'in',\n",
       " '1980',\n",
       " ',',\n",
       " 'Musk',\n",
       " 'lived',\n",
       " 'mostly',\n",
       " 'with',\n",
       " 'his',\n",
       " 'father',\n",
       " 'in',\n",
       " 'the',\n",
       " 'suburbs',\n",
       " 'of',\n",
       " 'Pretoria',\n",
       " '.',\n",
       " '[',\n",
       " '32',\n",
       " ']',\n",
       " 'During',\n",
       " 'his',\n",
       " 'childhood',\n",
       " 'he',\n",
       " 'had',\n",
       " 'an',\n",
       " 'interest',\n",
       " 'in',\n",
       " 'reading',\n",
       " 'and',\n",
       " 'often',\n",
       " 'did',\n",
       " 'so',\n",
       " 'for',\n",
       " 'hours',\n",
       " 'at',\n",
       " 'a',\n",
       " 'time',\n",
       " '.',\n",
       " '[',\n",
       " '35',\n",
       " ']',\n",
       " 'At',\n",
       " 'What',\n",
       " 'age',\n",
       " 'did',\n",
       " 'Musk',\n",
       " 'got',\n",
       " 'interested',\n",
       " 'in',\n",
       " 'computing',\n",
       " '?',\n",
       " 'At',\n",
       " 'age',\n",
       " '10',\n",
       " ',',\n",
       " 'he',\n",
       " 'developed',\n",
       " 'an',\n",
       " 'interest',\n",
       " 'in',\n",
       " 'computing',\n",
       " 'with',\n",
       " 'the',\n",
       " 'Commodore',\n",
       " 'VIC-20',\n",
       " '.',\n",
       " '[',\n",
       " '36',\n",
       " ']',\n",
       " 'He',\n",
       " 'taught',\n",
       " 'himself',\n",
       " 'computer',\n",
       " 'programming',\n",
       " 'at',\n",
       " 'the',\n",
       " 'age',\n",
       " 'of',\n",
       " '12',\n",
       " ',',\n",
       " 'sold',\n",
       " 'the',\n",
       " 'code',\n",
       " 'for',\n",
       " 'a',\n",
       " 'BASIC-based',\n",
       " 'video',\n",
       " 'game',\n",
       " 'he',\n",
       " 'created',\n",
       " 'called',\n",
       " 'Blastar',\n",
       " ',',\n",
       " 'to',\n",
       " 'a',\n",
       " 'magazine',\n",
       " 'called',\n",
       " 'PC',\n",
       " 'and',\n",
       " 'Office',\n",
       " 'Technology',\n",
       " ',',\n",
       " 'for',\n",
       " 'approximately',\n",
       " '$',\n",
       " '500',\n",
       " '.',\n",
       " '[',\n",
       " '37',\n",
       " ']',\n",
       " '[',\n",
       " '38',\n",
       " ']',\n",
       " 'A',\n",
       " 'web',\n",
       " 'version',\n",
       " 'of',\n",
       " 'the',\n",
       " 'game',\n",
       " 'is',\n",
       " 'available',\n",
       " 'online',\n",
       " '.',\n",
       " '[',\n",
       " '37',\n",
       " ']',\n",
       " '[',\n",
       " '39',\n",
       " ']',\n",
       " 'Musk',\n",
       " 'was',\n",
       " 'severely',\n",
       " 'bullied',\n",
       " 'throughout',\n",
       " 'his',\n",
       " 'childhood',\n",
       " ',',\n",
       " 'and',\n",
       " 'was',\n",
       " 'once',\n",
       " 'hospitalized',\n",
       " 'when',\n",
       " 'a',\n",
       " 'group',\n",
       " 'of',\n",
       " 'boys',\n",
       " 'threw',\n",
       " 'him',\n",
       " 'down',\n",
       " 'a',\n",
       " 'flight',\n",
       " 'of',\n",
       " 'stairs',\n",
       " 'and',\n",
       " 'then',\n",
       " 'beat',\n",
       " 'him',\n",
       " 'until',\n",
       " 'he',\n",
       " 'lost',\n",
       " 'consciousness',\n",
       " '.',\n",
       " '[',\n",
       " '40',\n",
       " ']',\n",
       " 'Musk',\n",
       " 'was',\n",
       " 'initially',\n",
       " 'educated',\n",
       " 'at',\n",
       " 'private',\n",
       " 'schools',\n",
       " ',',\n",
       " 'attending',\n",
       " 'the',\n",
       " 'English-speaking',\n",
       " 'Waterkloof',\n",
       " 'House',\n",
       " 'Preparatory',\n",
       " 'School',\n",
       " '.',\n",
       " 'Mr.',\n",
       " 'Singh',\n",
       " 'helped',\n",
       " 'Musk',\n",
       " 'during',\n",
       " 'his',\n",
       " 'initial',\n",
       " 'days',\n",
       " 'when',\n",
       " 'he',\n",
       " 'was',\n",
       " 'severely',\n",
       " 'bullied',\n",
       " 'during',\n",
       " 'his',\n",
       " 'childhood',\n",
       " '.',\n",
       " 'Musk',\n",
       " 'later',\n",
       " 'graduated',\n",
       " 'from',\n",
       " 'Pretoria',\n",
       " 'Boys',\n",
       " 'High',\n",
       " 'School',\n",
       " 'and',\n",
       " 'moved',\n",
       " 'to',\n",
       " 'Canada',\n",
       " 'in',\n",
       " 'June',\n",
       " '1989',\n",
       " ',',\n",
       " 'just',\n",
       " 'before',\n",
       " 'his',\n",
       " '18th',\n",
       " 'birthday',\n",
       " ',',\n",
       " '[',\n",
       " '41',\n",
       " ']',\n",
       " 'after',\n",
       " 'obtaining',\n",
       " 'Canadian',\n",
       " 'citizenship',\n",
       " 'through',\n",
       " 'his',\n",
       " 'Canadian-born',\n",
       " 'mother',\n",
       " '.',\n",
       " '[',\n",
       " '42',\n",
       " ']',\n",
       " '[',\n",
       " '43',\n",
       " ']',\n",
       " 'Although',\n",
       " 'at',\n",
       " 'the',\n",
       " 'time',\n",
       " 'Musk',\n",
       " 'had',\n",
       " 'to',\n",
       " 'register',\n",
       " 'to',\n",
       " 'become',\n",
       " 'a',\n",
       " 'Canadian',\n",
       " 'citizen',\n",
       " ',',\n",
       " 'Bill',\n",
       " 'C-37',\n",
       " ',',\n",
       " 'which',\n",
       " 'came',\n",
       " 'into',\n",
       " 'law',\n",
       " 'in',\n",
       " 'April',\n",
       " 'of',\n",
       " '2009',\n",
       " ',',\n",
       " 'effectively',\n",
       " 'made',\n",
       " 'his',\n",
       " 'Canadian',\n",
       " 'citizenship',\n",
       " 'retroactive',\n",
       " 'to',\n",
       " 'his',\n",
       " 'birth',\n",
       " 'since',\n",
       " 'he',\n",
       " 'was',\n",
       " 'born',\n",
       " 'in',\n",
       " 'the',\n",
       " 'first',\n",
       " 'generation',\n",
       " 'abroad',\n",
       " 'to',\n",
       " 'a',\n",
       " 'Canadian-born',\n",
       " 'mother',\n",
       " '.',\n",
       " 'Therefore',\n",
       " ',',\n",
       " 'with',\n",
       " 'the',\n",
       " 'law',\n",
       " 'change',\n",
       " ',',\n",
       " 'he',\n",
       " 'is',\n",
       " 'considered',\n",
       " 'to',\n",
       " 'have',\n",
       " 'always',\n",
       " 'been',\n",
       " 'a',\n",
       " 'Canadian',\n",
       " 'citizen',\n",
       " 'by',\n",
       " 'birth',\n",
       " '.']"
      ]
     },
     "execution_count": 25,
     "metadata": {},
     "output_type": "execute_result"
    }
   ],
   "source": [
    "word_tokenize(sentence)"
   ]
  },
  {
   "cell_type": "code",
   "execution_count": 1,
   "metadata": {
    "collapsed": true,
    "deletable": true,
    "editable": true
   },
   "outputs": [],
   "source": [
    "# Function to detect first criteria"
   ]
  },
  {
   "cell_type": "code",
   "execution_count": 3,
   "metadata": {
    "collapsed": false
   },
   "outputs": [
    {
     "data": {
      "text/plain": [
       "True"
      ]
     },
     "execution_count": 3,
     "metadata": {},
     "output_type": "execute_result"
    }
   ],
   "source": [
    "bool(len(sent_tokenize(sentence))<=15)"
   ]
  },
  {
   "cell_type": "code",
   "execution_count": 2,
   "metadata": {
    "collapsed": true,
    "deletable": true,
    "editable": true
   },
   "outputs": [],
   "source": [
    "# Function to detect second criteria"
   ]
  },
  {
   "cell_type": "code",
   "execution_count": 31,
   "metadata": {
    "collapsed": false
   },
   "outputs": [
    {
     "data": {
      "text/plain": [
       "False"
      ]
     },
     "execution_count": 31,
     "metadata": {},
     "output_type": "execute_result"
    }
   ],
   "source": [
    "bool(len(word_tokenize(sentence))<15)"
   ]
  },
  {
   "cell_type": "code",
   "execution_count": 28,
   "metadata": {
    "collapsed": false
   },
   "outputs": [
    {
     "data": {
      "text/plain": [
       "436"
      ]
     },
     "execution_count": 28,
     "metadata": {},
     "output_type": "execute_result"
    }
   ],
   "source": [
    "len(word_tokenize(sentence))"
   ]
  },
  {
   "cell_type": "code",
   "execution_count": 34,
   "metadata": {
    "collapsed": false,
    "deletable": true,
    "editable": true
   },
   "outputs": [],
   "source": [
    "# Function to detect third criteria"
   ]
  },
  {
   "cell_type": "code",
   "execution_count": 14,
   "metadata": {
    "collapsed": false,
    "deletable": true,
    "editable": true
   },
   "outputs": [
    {
     "data": {
      "text/plain": [
       "False"
      ]
     },
     "execution_count": 14,
     "metadata": {},
     "output_type": "execute_result"
    }
   ],
   "source": [
    "bool(len([w for w in word_tokenize(sentence) if len(w)<15])==len(word_tokenize(sentence)))"
   ]
  },
  {
   "cell_type": "code",
   "execution_count": null,
   "metadata": {
    "collapsed": true,
    "deletable": true,
    "editable": true
   },
   "outputs": [],
   "source": []
  },
  {
   "cell_type": "markdown",
   "metadata": {
    "deletable": true,
    "editable": true
   },
   "source": [
    "Mr. Wilson was not really satisfied with the write up. So he edited the few portions of the document and has resent the document for validation.\n",
    "\n",
    "~~~~ \n",
    "Musk was born on June 28, 1971, in Pretoria, Gauteng, South Africa,[27] the son of Maye Musk (née Haldeman), a model and dietician from Regina, Saskatchewan, Canada;[28] and Errol Musk, a South African electromechanical engineer, pilot and sailor. He has a younger brother, Kimbal (born 1972), and a younger sister, Tosca (born 1974).[28][29][30][31] His paternal grandmother was British, and he also has Pennsylvania Dutch ancestry,[32][33] and his maternal grandfather was American, from Minnesota.[34] After his parents divorced in 1980, Musk lived mostly with his father in the suburbs of Pretoria.[32]\n",
    "\n",
    "During his childhood he had an interest in reading and often did so for hours at a time.[35]\n",
    "\n",
    "At What age did Musk got interested in computing?At age 10, he developed an interest in computing with the Commodore VIC-20.[36] He taught himself computer programming at the age of 12, sold the code for a BASIC-based video game he created called Blastar, to a magazine called PC and Office Technology, for approximately $500. [37][38] A web version of the game is available online.[37][39]\n",
    "\n",
    "Musk was severely bullied throughout his childhood, and was once hospitalized when a group of boys threw him down a flight of stairs and then beat him until he lost consciousness.[40]\n",
    "\n",
    "Musk was initially educated at private schools, attending the English-speaking Waterkloof House Preparatory School. \n",
    "\n",
    "Mr. Sing helped Musk during his initial days when he was severely bullied during his childhood.\n",
    "\n",
    "Musk later graduated from Pretoria Boys High School and moved to Canada in June 1989, just before his 18th birthday,[41] after obtaining Canadian citizenship through his Canadian-born mother.[42][43] Although at the time Musk had to register to become a Canadian citizen, Bill C-37, which came into law in April of 2009, effectively made his Canadian citizenship retroactive to his birth since he was born in the first generation abroad to a Canadian-born mother. Therefore, with the law change, he is considered to have always been a Canadian citizen by birth.\n",
    "~~~~\n",
    "\n",
    "#### Detect the content sent by Mr. Wilson. ####\n",
    "\n",
    "#### Also spot the differences between the content posted now and the content posted earlier. ####\n",
    "\n"
   ]
  },
  {
   "cell_type": "code",
   "execution_count": 17,
   "metadata": {
    "collapsed": true
   },
   "outputs": [],
   "source": [
    "new_sentence=\"\"\"Musk was born on June 28, 1971, in Pretoria, Gauteng, South Africa,[27] the son of Maye Musk (née Haldeman), a model and dietician from Regina, Saskatchewan, Canada;[28] and Errol Musk, a South African electromechanical engineer, pilot and sailor. He has a younger brother, Kimbal (born 1972), and a younger sister, Tosca (born 1974).[28][29][30][31] His paternal grandmother was British, and he also has Pennsylvania Dutch ancestry,[32][33] and his maternal grandfather was American, from Minnesota.[34] After his parents divorced in 1980, Musk lived mostly with his father in the suburbs of Pretoria.[32]\n",
    "\n",
    "During his childhood he had an interest in reading and often did so for hours at a time.[35]\n",
    "\n",
    "At What age did Musk got interested in computing?At age 10, he developed an interest in computing with the Commodore VIC-20.[36] He taught himself computer programming at the age of 12, sold the code for a BASIC-based video game he created called Blastar, to a magazine called PC and Office Technology, for approximately $500. [37][38] A web version of the game is available online.[37][39]\n",
    "\n",
    "Musk was severely bullied throughout his childhood, and was once hospitalized when a group of boys threw him down a flight of stairs and then beat him until he lost consciousness.[40]\n",
    "\n",
    "Musk was initially educated at private schools, attending the English-speaking Waterkloof House Preparatory School. \n",
    "\n",
    "Mr. Sing helped Musk during his initial days when he was severely bullied during his childhood.\n",
    "\n",
    "Musk later graduated from Pretoria Boys High School and moved to Canada in June 1989, just before his 18th birthday,[41] after obtaining Canadian citizenship through his Canadian-born mother.[42][43] Although at the time Musk had to register to become a Canadian citizen, Bill C-37, which came into law in April of 2009, effectively made his Canadian citizenship retroactive to his birth since he was born in the first generation abroad to a Canadian-born mother. Therefore, with the law change, he is considered to have always been a Canadian citizen by birth.\"\"\""
   ]
  },
  {
   "cell_type": "code",
   "execution_count": 18,
   "metadata": {
    "collapsed": true,
    "deletable": true,
    "editable": true
   },
   "outputs": [],
   "source": [
    "# Use the function created earlier to detect the first criteria"
   ]
  },
  {
   "cell_type": "code",
   "execution_count": 19,
   "metadata": {
    "collapsed": false
   },
   "outputs": [
    {
     "data": {
      "text/plain": [
       "True"
      ]
     },
     "execution_count": 19,
     "metadata": {},
     "output_type": "execute_result"
    }
   ],
   "source": [
    "bool(len(sent_tokenize(new_sentence))<=15)"
   ]
  },
  {
   "cell_type": "code",
   "execution_count": 20,
   "metadata": {
    "collapsed": true,
    "deletable": true,
    "editable": true
   },
   "outputs": [],
   "source": [
    "# Use the function created earlier to detect the second criteria"
   ]
  },
  {
   "cell_type": "code",
   "execution_count": 21,
   "metadata": {
    "collapsed": false
   },
   "outputs": [
    {
     "data": {
      "text/plain": [
       "False"
      ]
     },
     "execution_count": 21,
     "metadata": {},
     "output_type": "execute_result"
    }
   ],
   "source": [
    "bool(len(word_tokenize(new_sentence))<15)"
   ]
  },
  {
   "cell_type": "code",
   "execution_count": 27,
   "metadata": {
    "collapsed": false
   },
   "outputs": [
    {
     "data": {
      "text/plain": [
       "437"
      ]
     },
     "execution_count": 27,
     "metadata": {},
     "output_type": "execute_result"
    }
   ],
   "source": [
    "len(word_tokenize(new_sentence))"
   ]
  },
  {
   "cell_type": "code",
   "execution_count": 22,
   "metadata": {
    "collapsed": true,
    "deletable": true,
    "editable": true
   },
   "outputs": [],
   "source": [
    "# Use the function created earlier to detect the third critera"
   ]
  },
  {
   "cell_type": "code",
   "execution_count": 23,
   "metadata": {
    "collapsed": false,
    "deletable": true,
    "editable": true
   },
   "outputs": [
    {
     "data": {
      "text/plain": [
       "False"
      ]
     },
     "execution_count": 23,
     "metadata": {},
     "output_type": "execute_result"
    }
   ],
   "source": [
    "bool(len([w for w in word_tokenize(new_sentence) if len(w)<15])==len(word_tokenize(new_sentence)))"
   ]
  },
  {
   "cell_type": "code",
   "execution_count": null,
   "metadata": {
    "collapsed": true,
    "deletable": true,
    "editable": true
   },
   "outputs": [],
   "source": []
  },
  {
   "cell_type": "code",
   "execution_count": null,
   "metadata": {
    "collapsed": true,
    "deletable": true,
    "editable": true
   },
   "outputs": [],
   "source": []
  }
 ],
 "metadata": {
  "kernelspec": {
   "display_name": "Python 3",
   "language": "python",
   "name": "python3"
  },
  "language_info": {
   "codemirror_mode": {
    "name": "ipython",
    "version": 3
   },
   "file_extension": ".py",
   "mimetype": "text/x-python",
   "name": "python",
   "nbconvert_exporter": "python",
   "pygments_lexer": "ipython3",
   "version": "3.5.2"
  }
 },
 "nbformat": 4,
 "nbformat_minor": 2
}
